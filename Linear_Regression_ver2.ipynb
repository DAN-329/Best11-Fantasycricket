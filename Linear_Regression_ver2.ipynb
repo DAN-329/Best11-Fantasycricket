{
  "nbformat": 4,
  "nbformat_minor": 0,
  "metadata": {
    "colab": {
      "name": "Copy of Fantasy_Cricket_2.ipynb",
      "provenance": [],
      "collapsed_sections": [],
      "include_colab_link": true
    },
    "kernelspec": {
      "name": "python3",
      "display_name": "Python 3"
    }
  },
  "cells": [
    {
      "cell_type": "markdown",
      "metadata": {
        "id": "view-in-github",
        "colab_type": "text"
      },
      "source": [
        "<a href=\"https://colab.research.google.com/github/lucasace/cricket/blob/master/Linear_Regression_ver2.ipynb\" target=\"_parent\"><img src=\"https://colab.research.google.com/assets/colab-badge.svg\" alt=\"Open In Colab\"/></a>"
      ]
    },
    {
      "cell_type": "code",
      "metadata": {
        "id": "EkzMDWadHkio",
        "colab_type": "code",
        "colab": {}
      },
      "source": [
        "import pandas as pd\n",
        "import numpy as np\n",
        "import matplotlib.pyplot as plt"
      ],
      "execution_count": 0,
      "outputs": []
    },
    {
      "cell_type": "code",
      "metadata": {
        "id": "VeDZBIuMRkbU",
        "colab_type": "code",
        "colab": {}
      },
      "source": [
        "score = pd.read_csv('Aaron Finch  (Australia).csv')\n",
        "dates = pd.read_csv('Aaron Finch  (Australia)1.csv')"
      ],
      "execution_count": 0,
      "outputs": []
    },
    {
      "cell_type": "code",
      "metadata": {
        "id": "tq9XDNZzRye4",
        "colab_type": "code",
        "colab": {}
      },
      "source": [
        "result = dates.merge(score,how='left', left_on='matchid', right_on='match_id')\n",
        "result.drop(['how dismissed', 'match_id'], axis=1, inplace=True)\n",
        "\n",
        "result.matchid = result.matchid.apply(lambda x: 1 if 'ODI' in x else 0)\n",
        "result = result[result['matchid'] != 0]\n",
        "result = result[result['score'] != '-']\n",
        "result = result.reindex(index=result.index[::-1]).reset_index()\n",
        "result.drop(['matchid', 'index', 'date','batting position'], axis=1, inplace=True)\n",
        "#result"
      ],
      "execution_count": 0,
      "outputs": []
    },
    {
      "cell_type": "code",
      "metadata": {
        "id": "q2mh_YVOR46Y",
        "colab_type": "code",
        "outputId": "2781557d-0f9f-461a-b188-f4ef994ba9ff",
        "colab": {
          "base_uri": "https://localhost:8080/",
          "height": 402
        }
      },
      "source": [
        "result = result.apply(pd.to_numeric)\n",
        "result['runs'] = result['score'] - 4*result['4s'] - 6*(2*result['6s'])\n",
        "result"
      ],
      "execution_count": 0,
      "outputs": [
        {
          "output_type": "execute_result",
          "data": {
            "text/html": [
              "<div>\n",
              "<style scoped>\n",
              "    .dataframe tbody tr th:only-of-type {\n",
              "        vertical-align: middle;\n",
              "    }\n",
              "\n",
              "    .dataframe tbody tr th {\n",
              "        vertical-align: top;\n",
              "    }\n",
              "\n",
              "    .dataframe thead th {\n",
              "        text-align: right;\n",
              "    }\n",
              "</style>\n",
              "<table border=\"1\" class=\"dataframe\">\n",
              "  <thead>\n",
              "    <tr style=\"text-align: right;\">\n",
              "      <th></th>\n",
              "      <th>score</th>\n",
              "      <th>strike rate</th>\n",
              "      <th>4s</th>\n",
              "      <th>6s</th>\n",
              "      <th>runs</th>\n",
              "    </tr>\n",
              "  </thead>\n",
              "  <tbody>\n",
              "    <tr>\n",
              "      <th>0</th>\n",
              "      <td>11</td>\n",
              "      <td>166.67</td>\n",
              "      <td>1</td>\n",
              "      <td>0</td>\n",
              "      <td>7</td>\n",
              "    </tr>\n",
              "    <tr>\n",
              "      <th>1</th>\n",
              "      <td>4</td>\n",
              "      <td>26.67</td>\n",
              "      <td>0</td>\n",
              "      <td>0</td>\n",
              "      <td>4</td>\n",
              "    </tr>\n",
              "    <tr>\n",
              "      <th>2</th>\n",
              "      <td>6</td>\n",
              "      <td>100.00</td>\n",
              "      <td>1</td>\n",
              "      <td>0</td>\n",
              "      <td>2</td>\n",
              "    </tr>\n",
              "    <tr>\n",
              "      <th>3</th>\n",
              "      <td>13</td>\n",
              "      <td>50.00</td>\n",
              "      <td>2</td>\n",
              "      <td>0</td>\n",
              "      <td>5</td>\n",
              "    </tr>\n",
              "    <tr>\n",
              "      <th>4</th>\n",
              "      <td>182</td>\n",
              "      <td>129.82</td>\n",
              "      <td>16</td>\n",
              "      <td>7</td>\n",
              "      <td>34</td>\n",
              "    </tr>\n",
              "    <tr>\n",
              "      <th>...</th>\n",
              "      <td>...</td>\n",
              "      <td>...</td>\n",
              "      <td>...</td>\n",
              "      <td>...</td>\n",
              "      <td>...</td>\n",
              "    </tr>\n",
              "    <tr>\n",
              "      <th>117</th>\n",
              "      <td>22</td>\n",
              "      <td>73.08</td>\n",
              "      <td>1</td>\n",
              "      <td>1</td>\n",
              "      <td>6</td>\n",
              "    </tr>\n",
              "    <tr>\n",
              "      <th>118</th>\n",
              "      <td>11</td>\n",
              "      <td>83.33</td>\n",
              "      <td>1</td>\n",
              "      <td>0</td>\n",
              "      <td>7</td>\n",
              "    </tr>\n",
              "    <tr>\n",
              "      <th>119</th>\n",
              "      <td>71</td>\n",
              "      <td>80.00</td>\n",
              "      <td>3</td>\n",
              "      <td>2</td>\n",
              "      <td>35</td>\n",
              "    </tr>\n",
              "    <tr>\n",
              "      <th>120</th>\n",
              "      <td>83</td>\n",
              "      <td>79.31</td>\n",
              "      <td>6</td>\n",
              "      <td>2</td>\n",
              "      <td>35</td>\n",
              "    </tr>\n",
              "    <tr>\n",
              "      <th>121</th>\n",
              "      <td>25</td>\n",
              "      <td>45.83</td>\n",
              "      <td>3</td>\n",
              "      <td>0</td>\n",
              "      <td>13</td>\n",
              "    </tr>\n",
              "  </tbody>\n",
              "</table>\n",
              "<p>122 rows × 5 columns</p>\n",
              "</div>"
            ],
            "text/plain": [
              "     score  strike rate  4s  6s  runs\n",
              "0       11       166.67   1   0     7\n",
              "1        4        26.67   0   0     4\n",
              "2        6       100.00   1   0     2\n",
              "3       13        50.00   2   0     5\n",
              "4      182       129.82  16   7    34\n",
              "..     ...          ...  ..  ..   ...\n",
              "117     22        73.08   1   1     6\n",
              "118     11        83.33   1   0     7\n",
              "119     71        80.00   3   2    35\n",
              "120     83        79.31   6   2    35\n",
              "121     25        45.83   3   0    13\n",
              "\n",
              "[122 rows x 5 columns]"
            ]
          },
          "metadata": {
            "tags": []
          },
          "execution_count": 11
        }
      ]
    },
    {
      "cell_type": "code",
      "metadata": {
        "id": "vzbaLVxTR6rA",
        "colab_type": "code",
        "colab": {}
      },
      "source": [
        "def segment(i):\n",
        "  if len(i) > 5:\n",
        "    j = 6\n",
        "    x=[]\n",
        "    while j<=len(i):\n",
        "      x.append(i[j-6:j-1])\n",
        "      j+=1\n",
        "  else:\n",
        "    return 0\n",
        "  return x"
      ],
      "execution_count": 0,
      "outputs": []
    },
    {
      "cell_type": "code",
      "metadata": {
        "id": "R5Md23dGR_Se",
        "colab_type": "code",
        "colab": {}
      },
      "source": [
        "X5 = list(result['score'])\n",
        "X5 = np.array(segment(X5))\n",
        "\n",
        "from sklearn.linear_model import LinearRegression\n",
        "\n",
        "regr = LinearRegression(fit_intercept=True)\n",
        "preds = []\n",
        "\n",
        "for i in X5:\n",
        "  y_train = np.array(i).reshape(-1,1)\n",
        "  X_train = np.array(range(5)).reshape(-1,1)\n",
        "  regr.fit(X_train, y_train)           \n",
        "  pred = regr.predict(np.array(5).reshape(1,-1))\n",
        "  preds.append(pred[0][0])\n",
        "\n",
        "preds = np.array(preds)\n",
        "preds[preds < 0] = 0"
      ],
      "execution_count": 0,
      "outputs": []
    },
    {
      "cell_type": "code",
      "metadata": {
        "id": "3MhmGhKOSBvT",
        "colab_type": "code",
        "outputId": "5d032542-3929-4740-9ed0-22b3e32658e8",
        "colab": {
          "base_uri": "https://localhost:8080/",
          "height": 265
        }
      },
      "source": [
        "y_temp = list(result['score'])\n",
        "y_temp = y_temp[5:]\n",
        "preds = preds[1:]\n",
        "plt.plot(preds)\n",
        "plt.plot(y_temp)\n",
        "plt.show()"
      ],
      "execution_count": 0,
      "outputs": [
        {
          "output_type": "display_data",
          "data": {
            "image/png": "[encoded data removed]",
            "text/plain": [
              "<Figure size 432x288 with 1 Axes>"
            ]
          },
          "metadata": {
            "tags": [],
            "needs_background": "light"
          }
        }
      ]
    },
    {
      "cell_type": "code",
      "metadata": {
        "id": "T00SenEqSJ7i",
        "colab_type": "code",
        "colab": {}
      },
      "source": [
        ""
      ],
      "execution_count": 0,
      "outputs": []
    }
  ]
}